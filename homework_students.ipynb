{
 "cells": [
  {
   "cell_type": "markdown",
   "source": [
    "## Практическое домашнее задание на проверку знаний по модулю 1.\n",
    "\n",
    "\n",
    "##### Тема тестирования - базовый эксплоративный анализ и аналитическое мышление. Вам будет предоставлен датасет и 25 вопросов касаемо данного датасета. Ваша задача - подумать как найти ответы на поставленные вопросы ниже. За каждый правильно оформленный и предоставленный ответ начисляется *4 балла*.\n",
    "\n",
    "#### Ответ на решение присылать ссылкой на ваш гитхаб репозиторий на почту maratmovlamov2017@gmail.com\n",
    "\n",
    "#### Сроки выполнения практического домашнего задания - ровно 7 календарных дней (168 часов) с момента публикации в группе. Прошу приступать к решению задач порционно. Прошу повторить дополнительные материалы, предоставленные в качестве самостоятельного изучения в конце презентаций, они вам понадобятся.\n",
    "\n",
    "\n",
    "\n",
    "#### Критерии оценки присланного решения:\n",
    "\n",
    "* Правильность полученного ответа - на каждый поставленный вопрос есть один и только один правильный ответ. В случае неправильного ответа на поставленный вопрос, предоставленный ответ на него считается проваленным, даже если код написан правильно и красиво. Общее количество баллов, которые можно получить ответив на все вопросы верно - 25 * 4 = 100 баллов, которые шкалируются к 10-ти бальной шкале.\n",
    "\n",
    "___\n",
    "\n",
    "* Аккуратность, правильность и читаемость кода - старайтесь писать код без повторного использования методов и ненужных переменных (помните про принцип DRY - don't repeat yourself). Плюсом будет, если ваш код будет упакован в лаконичную и красиво написанную функцию. Если вся работа выполненна аккуратно, без спагетти кода, к общему результату работы начисляется 1 балл.\n",
    "\n",
    "---\n",
    "\n",
    "* На предоставленные вопросы, дописывается комментарий для проверки вашего мышления и поиска ответа в виде Markdown комментария. В случае если комментарий на поставленный вопрос не предоставлен снимается 0.1 балл за каждый такой вопрос. То есть общий штраф за отсутсвие комментариев по всем вопросам 25 * -0.1 =  -2.5 балла.\n",
    "\n",
    "\n",
    "#### Удачи и да прибудет с Вами сила :)\n",
    "\n"
   ],
   "metadata": {
    "collapsed": false
   }
  },
  {
   "cell_type": "code",
   "execution_count": 67,
   "outputs": [],
   "source": [
    "import pandas as pd\n",
    "import numpy as np"
   ],
   "metadata": {
    "collapsed": false,
    "ExecuteTime": {
     "end_time": "2023-05-25T10:03:55.072114200Z",
     "start_time": "2023-05-25T10:03:54.007516300Z"
    }
   }
  },
  {
   "cell_type": "code",
   "execution_count": 68,
   "outputs": [],
   "source": [
    "df = pd.read_csv(\"./dataset/Spotify_Youtube.csv\")"
   ],
   "metadata": {
    "collapsed": false,
    "ExecuteTime": {
     "end_time": "2023-05-25T10:03:55.847411Z",
     "start_time": "2023-05-25T10:03:54.017042Z"
    }
   }
  },
  {
   "cell_type": "code",
   "execution_count": 69,
   "outputs": [
    {
     "data": {
      "text/plain": "   Unnamed: 0    Artist                                        Url_spotify   \n0           0  Gorillaz  https://open.spotify.com/artist/3AA28KZvwAUcZu...  \\\n1           1  Gorillaz  https://open.spotify.com/artist/3AA28KZvwAUcZu...   \n2           2  Gorillaz  https://open.spotify.com/artist/3AA28KZvwAUcZu...   \n3           3  Gorillaz  https://open.spotify.com/artist/3AA28KZvwAUcZu...   \n4           4  Gorillaz  https://open.spotify.com/artist/3AA28KZvwAUcZu...   \n\n                                           Track   \n0                                 Feel Good Inc.  \\\n1                                Rhinestone Eyes   \n2  New Gold (feat. Tame Impala and Bootie Brown)   \n3                             On Melancholy Hill   \n4                                 Clint Eastwood   \n\n                                           Album Album_type   \n0                                     Demon Days      album  \\\n1                                  Plastic Beach      album   \n2  New Gold (feat. Tame Impala and Bootie Brown)     single   \n3                                  Plastic Beach      album   \n4                                       Gorillaz      album   \n\n                                    Uri  Danceability  Energy   Key  ...   \n0  spotify:track:0d28khcov6AiegSCpG5TuT         0.818   0.705   6.0  ...  \\\n1  spotify:track:1foMv2HQwfQ2vntFf9HFeG         0.676   0.703   8.0  ...   \n2  spotify:track:64dLd6rVqDLtkXFYrEUHIU         0.695   0.923   1.0  ...   \n3  spotify:track:0q6LuUqGLUiCPP1cbdwFs3         0.689   0.739   2.0  ...   \n4  spotify:track:7yMiX7n9SBvadzox8T5jzT         0.663   0.694  10.0  ...   \n\n                                   Url_youtube   \n0  https://www.youtube.com/watch?v=HyHNuVaZJ-k  \\\n1  https://www.youtube.com/watch?v=yYDmaexVHic   \n2  https://www.youtube.com/watch?v=qJa-VFwPpYA   \n3  https://www.youtube.com/watch?v=04mfKJWDSzI   \n4  https://www.youtube.com/watch?v=1V_xRb0x9aw   \n\n                                               Title   Channel        Views   \n0         Gorillaz - Feel Good Inc. (Official Video)  Gorillaz  693555221.0  \\\n1  Gorillaz - Rhinestone Eyes [Storyboard Film] (...  Gorillaz   72011645.0   \n2  Gorillaz - New Gold ft. Tame Impala & Bootie B...  Gorillaz    8435055.0   \n3     Gorillaz - On Melancholy Hill (Official Video)  Gorillaz  211754952.0   \n4         Gorillaz - Clint Eastwood (Official Video)  Gorillaz  618480958.0   \n\n       Likes  Comments                                        Description   \n0  6220896.0  169907.0  Official HD Video for Gorillaz' fantastic trac...  \\\n1  1079128.0   31003.0  The official video for Gorillaz - Rhinestone E...   \n2   282142.0    7399.0  Gorillaz - New Gold ft. Tame Impala & Bootie B...   \n3  1788577.0   55229.0  Follow Gorillaz online:\\nhttp://gorillaz.com \\...   \n4  6197318.0  155930.0  The official music video for Gorillaz - Clint ...   \n\n   Licensed official_video        Stream  \n0      True           True  1.040235e+09  \n1      True           True  3.100837e+08  \n2      True           True  6.306347e+07  \n3      True           True  4.346636e+08  \n4      True           True  6.172597e+08  \n\n[5 rows x 28 columns]",
      "text/html": "<div>\n<style scoped>\n    .dataframe tbody tr th:only-of-type {\n        vertical-align: middle;\n    }\n\n    .dataframe tbody tr th {\n        vertical-align: top;\n    }\n\n    .dataframe thead th {\n        text-align: right;\n    }\n</style>\n<table border=\"1\" class=\"dataframe\">\n  <thead>\n    <tr style=\"text-align: right;\">\n      <th></th>\n      <th>Unnamed: 0</th>\n      <th>Artist</th>\n      <th>Url_spotify</th>\n      <th>Track</th>\n      <th>Album</th>\n      <th>Album_type</th>\n      <th>Uri</th>\n      <th>Danceability</th>\n      <th>Energy</th>\n      <th>Key</th>\n      <th>...</th>\n      <th>Url_youtube</th>\n      <th>Title</th>\n      <th>Channel</th>\n      <th>Views</th>\n      <th>Likes</th>\n      <th>Comments</th>\n      <th>Description</th>\n      <th>Licensed</th>\n      <th>official_video</th>\n      <th>Stream</th>\n    </tr>\n  </thead>\n  <tbody>\n    <tr>\n      <th>0</th>\n      <td>0</td>\n      <td>Gorillaz</td>\n      <td>https://open.spotify.com/artist/3AA28KZvwAUcZu...</td>\n      <td>Feel Good Inc.</td>\n      <td>Demon Days</td>\n      <td>album</td>\n      <td>spotify:track:0d28khcov6AiegSCpG5TuT</td>\n      <td>0.818</td>\n      <td>0.705</td>\n      <td>6.0</td>\n      <td>...</td>\n      <td>https://www.youtube.com/watch?v=HyHNuVaZJ-k</td>\n      <td>Gorillaz - Feel Good Inc. (Official Video)</td>\n      <td>Gorillaz</td>\n      <td>693555221.0</td>\n      <td>6220896.0</td>\n      <td>169907.0</td>\n      <td>Official HD Video for Gorillaz' fantastic trac...</td>\n      <td>True</td>\n      <td>True</td>\n      <td>1.040235e+09</td>\n    </tr>\n    <tr>\n      <th>1</th>\n      <td>1</td>\n      <td>Gorillaz</td>\n      <td>https://open.spotify.com/artist/3AA28KZvwAUcZu...</td>\n      <td>Rhinestone Eyes</td>\n      <td>Plastic Beach</td>\n      <td>album</td>\n      <td>spotify:track:1foMv2HQwfQ2vntFf9HFeG</td>\n      <td>0.676</td>\n      <td>0.703</td>\n      <td>8.0</td>\n      <td>...</td>\n      <td>https://www.youtube.com/watch?v=yYDmaexVHic</td>\n      <td>Gorillaz - Rhinestone Eyes [Storyboard Film] (...</td>\n      <td>Gorillaz</td>\n      <td>72011645.0</td>\n      <td>1079128.0</td>\n      <td>31003.0</td>\n      <td>The official video for Gorillaz - Rhinestone E...</td>\n      <td>True</td>\n      <td>True</td>\n      <td>3.100837e+08</td>\n    </tr>\n    <tr>\n      <th>2</th>\n      <td>2</td>\n      <td>Gorillaz</td>\n      <td>https://open.spotify.com/artist/3AA28KZvwAUcZu...</td>\n      <td>New Gold (feat. Tame Impala and Bootie Brown)</td>\n      <td>New Gold (feat. Tame Impala and Bootie Brown)</td>\n      <td>single</td>\n      <td>spotify:track:64dLd6rVqDLtkXFYrEUHIU</td>\n      <td>0.695</td>\n      <td>0.923</td>\n      <td>1.0</td>\n      <td>...</td>\n      <td>https://www.youtube.com/watch?v=qJa-VFwPpYA</td>\n      <td>Gorillaz - New Gold ft. Tame Impala &amp; Bootie B...</td>\n      <td>Gorillaz</td>\n      <td>8435055.0</td>\n      <td>282142.0</td>\n      <td>7399.0</td>\n      <td>Gorillaz - New Gold ft. Tame Impala &amp; Bootie B...</td>\n      <td>True</td>\n      <td>True</td>\n      <td>6.306347e+07</td>\n    </tr>\n    <tr>\n      <th>3</th>\n      <td>3</td>\n      <td>Gorillaz</td>\n      <td>https://open.spotify.com/artist/3AA28KZvwAUcZu...</td>\n      <td>On Melancholy Hill</td>\n      <td>Plastic Beach</td>\n      <td>album</td>\n      <td>spotify:track:0q6LuUqGLUiCPP1cbdwFs3</td>\n      <td>0.689</td>\n      <td>0.739</td>\n      <td>2.0</td>\n      <td>...</td>\n      <td>https://www.youtube.com/watch?v=04mfKJWDSzI</td>\n      <td>Gorillaz - On Melancholy Hill (Official Video)</td>\n      <td>Gorillaz</td>\n      <td>211754952.0</td>\n      <td>1788577.0</td>\n      <td>55229.0</td>\n      <td>Follow Gorillaz online:\\nhttp://gorillaz.com \\...</td>\n      <td>True</td>\n      <td>True</td>\n      <td>4.346636e+08</td>\n    </tr>\n    <tr>\n      <th>4</th>\n      <td>4</td>\n      <td>Gorillaz</td>\n      <td>https://open.spotify.com/artist/3AA28KZvwAUcZu...</td>\n      <td>Clint Eastwood</td>\n      <td>Gorillaz</td>\n      <td>album</td>\n      <td>spotify:track:7yMiX7n9SBvadzox8T5jzT</td>\n      <td>0.663</td>\n      <td>0.694</td>\n      <td>10.0</td>\n      <td>...</td>\n      <td>https://www.youtube.com/watch?v=1V_xRb0x9aw</td>\n      <td>Gorillaz - Clint Eastwood (Official Video)</td>\n      <td>Gorillaz</td>\n      <td>618480958.0</td>\n      <td>6197318.0</td>\n      <td>155930.0</td>\n      <td>The official music video for Gorillaz - Clint ...</td>\n      <td>True</td>\n      <td>True</td>\n      <td>6.172597e+08</td>\n    </tr>\n  </tbody>\n</table>\n<p>5 rows × 28 columns</p>\n</div>"
     },
     "execution_count": 69,
     "metadata": {},
     "output_type": "execute_result"
    }
   ],
   "source": [
    "df.head()"
   ],
   "metadata": {
    "collapsed": false,
    "ExecuteTime": {
     "end_time": "2023-05-25T10:03:55.973013400Z",
     "start_time": "2023-05-25T10:03:55.230281Z"
    }
   }
  },
  {
   "cell_type": "markdown",
   "source": [
    "### Структура датасета:\n",
    "\n",
    "----\n",
    "\n",
    "26 признаков, описание которых следует ниже:\n",
    "\n",
    "\n",
    "\n",
    "- **Track**: name of the song, as visible on the Spotify platform.\n",
    "- **Artist**: name of the artist.\n",
    "- **Url_spotify**: the Url of the artist.\n",
    "- **Album**: the album in wich the song is contained on Spotify.\n",
    "- **Album_type**: indicates if the song is relesead on Spotify as a single or contained in an album.\n",
    "- **Uri**: a spotify link used to find the song through the API.\n",
    "- **Danceability**: describes how suitable a track is for dancing based on a combination of musical elements including tempo, rhythm stability, beat strength, and overall regularity. A value of 0.0 is least danceable and 1.0 is most danceable.\n",
    "- **Energy:** is a measure from 0.0 to 1.0 and represents a perceptual measure of intensity and activity. Typically, energetic tracks feel fast, loud, and noisy. For example, death metal has high energy, while a Bach prelude scores low on the scale. Perceptual features contributing to this attribute include dynamic range, perceived loudness, timbre, onset rate, and general entropy.\n",
    "- **Key**: the key the track is in. Integers map to pitches using standard Pitch Class notation. E.g. 0 = C, 1 = C♯/D♭, 2 = D, and so on. If no key was detected, the value is -1.\n",
    "- **Loudness**: the overall loudness of a track in decibels (dB). Loudness values are averaged across the entire track and are useful for comparing relative loudness of tracks. Loudness is the quality of a sound that is the primary psychological correlate of physical strength (amplitude). Values typically range between -60 and 0 db.\n",
    "- **Speechiness**: detects the presence of spoken words in a track. The more exclusively speech-like the recording (e.g. talk show, audio book, poetry), the closer to 1.0 the attribute value. Values above 0.66 describe tracks that are probably made entirely of spoken words. Values between 0.33 and 0.66 describe tracks that may contain both music and speech, either in sections or layered, including such cases as rap music. Values below 0.33 most likely represent music and other non-speech-like tracks.\n",
    "- **Acousticness**: a confidence measure from 0.0 to 1.0 of whether the track is acoustic. 1.0 represents high confidence the track is acoustic.\n",
    "- **Instrumentalness**: predicts whether a track contains no vocals. \"Ooh\" and \"aah\" sounds are treated as instrumental in this context. Rap or spoken word tracks are clearly \"vocal\". The closer the instrumentalness value is to 1.0, the greater likelihood the track contains no vocal content. Values above 0.5 are intended to represent instrumental tracks, but confidence is higher as the value approaches 1.0.\n",
    "- **Liveness**: detects the presence of an audience in the recording. Higher liveness values represent an increased probability that the track was performed live. A value above 0.8 provides strong likelihood that the track is live.\n",
    "- **Valence**: a measure from 0.0 to 1.0 describing the musical positiveness conveyed by a track. Tracks with high valence sound more positive (e.g. happy, cheerful, euphoric), while tracks with low valence sound more negative (e.g. sad, depressed, angry).\n",
    "- **Tempo**: the overall estimated tempo of a track in beats per minute (BPM). In musical terminology, tempo is the speed or pace of a given piece and derives directly from the average beat duration.\n",
    "- **Duration_ms**: the duration of the track in milliseconds.\n",
    "- **Stream**: number of streams of the song on Spotify.\n",
    "- **Url_youtube**: url of the video linked to the song on Youtube, if it have any.\n",
    "- **Title**: title of the videoclip on youtube.\n",
    "- **Channel**: name of the channel that have published the video.\n",
    "- **Views**: number of views.\n",
    "- **Likes**: number of likes.\n",
    "- **Comments**: number of comments.\n",
    "- **Description**: description of the video on Youtube.\n",
    "- **Licensed**: Indicates whether the video represents licensed content, which means that the content was uploaded to a channel linked to a YouTube content partner and then claimed by that partner. official_video: boolean value that indicates if the video found is the official video of the song."
   ],
   "metadata": {
    "collapsed": false
   }
  },
  {
   "cell_type": "markdown",
   "source": [
    "### Вопросы:"
   ],
   "metadata": {
    "collapsed": false
   }
  },
  {
   "cell_type": "markdown",
   "source": [
    "#### 1. Какая песня является наиболее транслируемой в датасете (признак Stream)?"
   ],
   "metadata": {
    "collapsed": false
   }
  },
  {
   "cell_type": "code",
   "execution_count": 70,
   "outputs": [
    {
     "data": {
      "text/plain": "           Artist            Track        Stream\n15250  The Weeknd  Blinding Lights  3.386520e+09",
      "text/html": "<div>\n<style scoped>\n    .dataframe tbody tr th:only-of-type {\n        vertical-align: middle;\n    }\n\n    .dataframe tbody tr th {\n        vertical-align: top;\n    }\n\n    .dataframe thead th {\n        text-align: right;\n    }\n</style>\n<table border=\"1\" class=\"dataframe\">\n  <thead>\n    <tr style=\"text-align: right;\">\n      <th></th>\n      <th>Artist</th>\n      <th>Track</th>\n      <th>Stream</th>\n    </tr>\n  </thead>\n  <tbody>\n    <tr>\n      <th>15250</th>\n      <td>The Weeknd</td>\n      <td>Blinding Lights</td>\n      <td>3.386520e+09</td>\n    </tr>\n  </tbody>\n</table>\n</div>"
     },
     "execution_count": 70,
     "metadata": {},
     "output_type": "execute_result"
    }
   ],
   "source": [
    "df[df['Stream'] == df['Stream'].max()][['Artist', 'Track', 'Stream']]"
   ],
   "metadata": {
    "collapsed": false,
    "ExecuteTime": {
     "end_time": "2023-05-25T10:03:55.973013400Z",
     "start_time": "2023-05-25T10:03:55.268537Z"
    }
   }
  },
  {
   "cell_type": "markdown",
   "source": [
    "Наиболее транслируемой песней в датасете является песня Blinding Lights by The Weeknd"
   ],
   "metadata": {
    "collapsed": false
   }
  },
  {
   "cell_type": "markdown",
   "source": [
    "#### 2. У какого исполнителя больше всего просмотров на YouTube?"
   ],
   "metadata": {
    "collapsed": false
   }
  },
  {
   "cell_type": "code",
   "execution_count": 71,
   "outputs": [
    {
     "data": {
      "text/plain": "                     Views\nArtist                    \nEd Sheeran    1.546021e+10\nCoComelon     1.460167e+10\nKaty Perry    1.312063e+10\nCharlie Puth  1.216759e+10\nLuis Fonsi    1.162811e+10",
      "text/html": "<div>\n<style scoped>\n    .dataframe tbody tr th:only-of-type {\n        vertical-align: middle;\n    }\n\n    .dataframe tbody tr th {\n        vertical-align: top;\n    }\n\n    .dataframe thead th {\n        text-align: right;\n    }\n</style>\n<table border=\"1\" class=\"dataframe\">\n  <thead>\n    <tr style=\"text-align: right;\">\n      <th></th>\n      <th>Views</th>\n    </tr>\n    <tr>\n      <th>Artist</th>\n      <th></th>\n    </tr>\n  </thead>\n  <tbody>\n    <tr>\n      <th>Ed Sheeran</th>\n      <td>1.546021e+10</td>\n    </tr>\n    <tr>\n      <th>CoComelon</th>\n      <td>1.460167e+10</td>\n    </tr>\n    <tr>\n      <th>Katy Perry</th>\n      <td>1.312063e+10</td>\n    </tr>\n    <tr>\n      <th>Charlie Puth</th>\n      <td>1.216759e+10</td>\n    </tr>\n    <tr>\n      <th>Luis Fonsi</th>\n      <td>1.162811e+10</td>\n    </tr>\n  </tbody>\n</table>\n</div>"
     },
     "execution_count": 71,
     "metadata": {},
     "output_type": "execute_result"
    }
   ],
   "source": [
    "pd.pivot_table(data = df, index = 'Artist', values = 'Views', aggfunc=np.sum).sort_values(by='Views', ascending=False).head()"
   ],
   "metadata": {
    "collapsed": false,
    "ExecuteTime": {
     "end_time": "2023-05-25T10:03:55.973013400Z",
     "start_time": "2023-05-25T10:03:55.294233200Z"
    }
   }
  },
  {
   "cell_type": "markdown",
   "source": [
    "Исполнителем с наибольшим количеством просмотров на YouTube является Ed Sheeran"
   ],
   "metadata": {
    "collapsed": false
   }
  },
  {
   "cell_type": "markdown",
   "source": [
    "#### 3. Какова средняя продолжительность всех песен в минутах?"
   ],
   "metadata": {
    "collapsed": false
   }
  },
  {
   "cell_type": "code",
   "execution_count": 72,
   "outputs": [
    {
     "data": {
      "text/plain": "3.7453"
     },
     "execution_count": 72,
     "metadata": {},
     "output_type": "execute_result"
    }
   ],
   "source": [
    "np.round(df['Duration_ms'].mean() / 60000, 4)"
   ],
   "metadata": {
    "collapsed": false,
    "ExecuteTime": {
     "end_time": "2023-05-25T10:03:55.973013400Z",
     "start_time": "2023-05-25T10:03:55.326429600Z"
    }
   }
  },
  {
   "cell_type": "markdown",
   "source": [
    "Средняя продолжительность всех песен в минутах --- 3.7453 минут"
   ],
   "metadata": {
    "collapsed": false
   }
  },
  {
   "cell_type": "markdown",
   "source": [
    "#### 4. Какая нота (Key) чаще всего используется в песнях?"
   ],
   "metadata": {
    "collapsed": false
   }
  },
  {
   "cell_type": "code",
   "execution_count": 73,
   "outputs": [
    {
     "data": {
      "text/plain": "Key\n0.0     2305\n7.0     2252\n1.0     2211\n2.0     2021\n9.0     1979\n5.0     1731\n11.0    1667\n4.0     1515\n8.0     1483\n6.0     1443\n10.0    1439\n3.0      670\nName: count, dtype: int64"
     },
     "execution_count": 73,
     "metadata": {},
     "output_type": "execute_result"
    }
   ],
   "source": [
    "df['Key'].value_counts()"
   ],
   "metadata": {
    "collapsed": false,
    "ExecuteTime": {
     "end_time": "2023-05-25T10:03:55.973013400Z",
     "start_time": "2023-05-25T10:03:55.341472200Z"
    }
   }
  },
  {
   "cell_type": "markdown",
   "source": [
    "Чаще всего используется нота C = 0 (2305 раз)"
   ],
   "metadata": {
    "collapsed": false
   }
  },
  {
   "cell_type": "markdown",
   "source": [
    "#### 5. Какая самая популярная песня на YouTube?"
   ],
   "metadata": {
    "collapsed": false
   }
  },
  {
   "cell_type": "code",
   "execution_count": 74,
   "outputs": [
    {
     "data": {
      "text/plain": "          Artist      Track         Views\n1147  Luis Fonsi  Despacito  8.079649e+09",
      "text/html": "<div>\n<style scoped>\n    .dataframe tbody tr th:only-of-type {\n        vertical-align: middle;\n    }\n\n    .dataframe tbody tr th {\n        vertical-align: top;\n    }\n\n    .dataframe thead th {\n        text-align: right;\n    }\n</style>\n<table border=\"1\" class=\"dataframe\">\n  <thead>\n    <tr style=\"text-align: right;\">\n      <th></th>\n      <th>Artist</th>\n      <th>Track</th>\n      <th>Views</th>\n    </tr>\n  </thead>\n  <tbody>\n    <tr>\n      <th>1147</th>\n      <td>Luis Fonsi</td>\n      <td>Despacito</td>\n      <td>8.079649e+09</td>\n    </tr>\n  </tbody>\n</table>\n</div>"
     },
     "execution_count": 74,
     "metadata": {},
     "output_type": "execute_result"
    }
   ],
   "source": [
    "df[df['Views'] == df['Views'].max()][['Artist', 'Track', 'Views']]"
   ],
   "metadata": {
    "collapsed": false,
    "ExecuteTime": {
     "end_time": "2023-05-25T10:03:55.973013400Z",
     "start_time": "2023-05-25T10:03:55.358545700Z"
    }
   }
  },
  {
   "cell_type": "markdown",
   "source": [
    "Cамой популярной песней на YouTube является песня Despacito by Luis Fonsi"
   ],
   "metadata": {
    "collapsed": false
   }
  },
  {
   "cell_type": "markdown",
   "source": [
    "#### 6. У какой песни самый высокий балл за танцевальность (danceability )?"
   ],
   "metadata": {
    "collapsed": false
   }
  },
  {
   "cell_type": "code",
   "execution_count": 75,
   "outputs": [
    {
     "data": {
      "text/plain": "          Artist             Track  Danceability\n750    Timbaland     Give It To Me         0.975\n16555        BIA  CAN'T TOUCH THIS         0.975\n18822       Dave      Funky Friday         0.975",
      "text/html": "<div>\n<style scoped>\n    .dataframe tbody tr th:only-of-type {\n        vertical-align: middle;\n    }\n\n    .dataframe tbody tr th {\n        vertical-align: top;\n    }\n\n    .dataframe thead th {\n        text-align: right;\n    }\n</style>\n<table border=\"1\" class=\"dataframe\">\n  <thead>\n    <tr style=\"text-align: right;\">\n      <th></th>\n      <th>Artist</th>\n      <th>Track</th>\n      <th>Danceability</th>\n    </tr>\n  </thead>\n  <tbody>\n    <tr>\n      <th>750</th>\n      <td>Timbaland</td>\n      <td>Give It To Me</td>\n      <td>0.975</td>\n    </tr>\n    <tr>\n      <th>16555</th>\n      <td>BIA</td>\n      <td>CAN'T TOUCH THIS</td>\n      <td>0.975</td>\n    </tr>\n    <tr>\n      <th>18822</th>\n      <td>Dave</td>\n      <td>Funky Friday</td>\n      <td>0.975</td>\n    </tr>\n  </tbody>\n</table>\n</div>"
     },
     "execution_count": 75,
     "metadata": {},
     "output_type": "execute_result"
    }
   ],
   "source": [
    "df[df['Danceability'] == df['Danceability'].max()][['Artist', 'Track', 'Danceability']]"
   ],
   "metadata": {
    "collapsed": false,
    "ExecuteTime": {
     "end_time": "2023-05-25T10:03:55.973013400Z",
     "start_time": "2023-05-25T10:03:55.388763900Z"
    }
   }
  },
  {
   "cell_type": "markdown",
   "source": [
    "Самый высокий балл за танцевальность наблюдается у песен CAN'T TOUCH THIS by BIA, Give It To Me by Timbaland, Funky Friday by Dave с показателем 0.975"
   ],
   "metadata": {
    "collapsed": false
   }
  },
  {
   "cell_type": "markdown",
   "source": [
    "#### 7. У какой песни самый высокий показатель энергии (energy score)?"
   ],
   "metadata": {
    "collapsed": false
   }
  },
  {
   "cell_type": "code",
   "execution_count": 76,
   "outputs": [
    {
     "data": {
      "text/plain": "                   Artist                          Track  Energy\n20581  Rain Fruits Sounds   Rain and Thunderstorm, Pt. 3     1.0\n20582  Rain Fruits Sounds   Rain and Thunderstorm, Pt. 4     1.0\n20585  Rain Fruits Sounds   Rain and Thunderstorm, Pt. 7     1.0\n20586  Rain Fruits Sounds   Rain and Thunderstorm, Pt. 6     1.0\n20587  Rain Fruits Sounds  Rain and Thunderstorm, Pt. 33     1.0\n20652      Sleepy Penguin          Gentle Piano Melodies     1.0",
      "text/html": "<div>\n<style scoped>\n    .dataframe tbody tr th:only-of-type {\n        vertical-align: middle;\n    }\n\n    .dataframe tbody tr th {\n        vertical-align: top;\n    }\n\n    .dataframe thead th {\n        text-align: right;\n    }\n</style>\n<table border=\"1\" class=\"dataframe\">\n  <thead>\n    <tr style=\"text-align: right;\">\n      <th></th>\n      <th>Artist</th>\n      <th>Track</th>\n      <th>Energy</th>\n    </tr>\n  </thead>\n  <tbody>\n    <tr>\n      <th>20581</th>\n      <td>Rain Fruits Sounds</td>\n      <td>Rain and Thunderstorm, Pt. 3</td>\n      <td>1.0</td>\n    </tr>\n    <tr>\n      <th>20582</th>\n      <td>Rain Fruits Sounds</td>\n      <td>Rain and Thunderstorm, Pt. 4</td>\n      <td>1.0</td>\n    </tr>\n    <tr>\n      <th>20585</th>\n      <td>Rain Fruits Sounds</td>\n      <td>Rain and Thunderstorm, Pt. 7</td>\n      <td>1.0</td>\n    </tr>\n    <tr>\n      <th>20586</th>\n      <td>Rain Fruits Sounds</td>\n      <td>Rain and Thunderstorm, Pt. 6</td>\n      <td>1.0</td>\n    </tr>\n    <tr>\n      <th>20587</th>\n      <td>Rain Fruits Sounds</td>\n      <td>Rain and Thunderstorm, Pt. 33</td>\n      <td>1.0</td>\n    </tr>\n    <tr>\n      <th>20652</th>\n      <td>Sleepy Penguin</td>\n      <td>Gentle Piano Melodies</td>\n      <td>1.0</td>\n    </tr>\n  </tbody>\n</table>\n</div>"
     },
     "execution_count": 76,
     "metadata": {},
     "output_type": "execute_result"
    }
   ],
   "source": [
    "df[df['Energy'] == df['Energy'].max()][['Artist', 'Track', 'Energy']]"
   ],
   "metadata": {
    "collapsed": false,
    "ExecuteTime": {
     "end_time": "2023-05-25T10:03:55.973013400Z",
     "start_time": "2023-05-25T10:03:55.420528100Z"
    }
   }
  },
  {
   "cell_type": "markdown",
   "source": [
    "Самый высокий показатель энергии наблюдается у песен Rain and Thunderstorm, Pt. 7, 33, 4, 3, 6 by Rain Fruits Sounds и у песни Gentle Piano Melodies by Sleepy Penguin"
   ],
   "metadata": {
    "collapsed": false
   }
  },
  {
   "cell_type": "markdown",
   "source": [
    "#### 8. Какая песня имеет наивысший балл valence (valence score)?"
   ],
   "metadata": {
    "collapsed": false
   }
  },
  {
   "cell_type": "code",
   "execution_count": 77,
   "outputs": [
    {
     "data": {
      "text/plain": "         Artist         Track  Valence\n18514  Toby Fox  Spider Dance    0.993",
      "text/html": "<div>\n<style scoped>\n    .dataframe tbody tr th:only-of-type {\n        vertical-align: middle;\n    }\n\n    .dataframe tbody tr th {\n        vertical-align: top;\n    }\n\n    .dataframe thead th {\n        text-align: right;\n    }\n</style>\n<table border=\"1\" class=\"dataframe\">\n  <thead>\n    <tr style=\"text-align: right;\">\n      <th></th>\n      <th>Artist</th>\n      <th>Track</th>\n      <th>Valence</th>\n    </tr>\n  </thead>\n  <tbody>\n    <tr>\n      <th>18514</th>\n      <td>Toby Fox</td>\n      <td>Spider Dance</td>\n      <td>0.993</td>\n    </tr>\n  </tbody>\n</table>\n</div>"
     },
     "execution_count": 77,
     "metadata": {},
     "output_type": "execute_result"
    }
   ],
   "source": [
    "df[df['Valence'] == df['Valence'].max()][['Artist', 'Track', 'Valence']]"
   ],
   "metadata": {
    "collapsed": false,
    "ExecuteTime": {
     "end_time": "2023-05-25T10:03:55.973013400Z",
     "start_time": "2023-05-25T10:03:55.437368Z"
    }
   }
  },
  {
   "cell_type": "markdown",
   "source": [
    "Наивысшим баллом \"valence\" обладает песня Spider Dance by Toby Fox"
   ],
   "metadata": {
    "collapsed": false
   }
  },
  {
   "cell_type": "markdown",
   "source": [
    "#### 9. Будут ли песни с более высокой «valence» (музыкальной позитивностью) более популярны как на Spotify, так и на YouTube? Чтобы ответить на этот вопрос, подсчитайте среднюю оценку «valence» для песен в верхнем квартиле «Streams» и «Views» и сравните ее с общей средней «valence»."
   ],
   "metadata": {
    "collapsed": false
   }
  },
  {
   "cell_type": "code",
   "execution_count": 78,
   "outputs": [
    {
     "name": "stdout",
     "output_type": "stream",
     "text": [
      "Средняя 'valence' в верхнем квартиле Spotify: 0.5235957377365779\n",
      "Средняя 'valence' в верхнем квартиле YouTube: 0.5470677157752463\n",
      "Общая средняя 'valence': 0.5298533240007725\n"
     ]
    }
   ],
   "source": [
    "df_views = df.nlargest(int(len(df) * 0.25), columns = 'Views')\n",
    "df_stream = df.nlargest(int(len(df) * 0.25), columns = 'Stream')\n",
    "print(f\"Средняя 'valence' в верхнем квартиле Spotify: {df_stream['Valence'].mean()}\\n\"\n",
    "      f\"Средняя 'valence' в верхнем квартиле YouTube: {df_views['Valence'].mean()}\\n\"\n",
    "      f\"Общая средняя 'valence': {df['Valence'].mean()}\")"
   ],
   "metadata": {
    "collapsed": false,
    "ExecuteTime": {
     "end_time": "2023-05-25T10:03:56.009954Z",
     "start_time": "2023-05-25T10:03:55.467778500Z"
    }
   }
  },
  {
   "cell_type": "markdown",
   "source": [
    "Песни с более высокой valence более популярны на YouTube"
   ],
   "metadata": {
    "collapsed": false
   }
  },
  {
   "cell_type": "markdown",
   "source": [
    "#### 10. Какой канал на YouTube имеет наибольшее количество просмотров?"
   ],
   "metadata": {
    "collapsed": false
   }
  },
  {
   "cell_type": "code",
   "execution_count": 79,
   "outputs": [
    {
     "data": {
      "text/plain": "                                    Views\nChannel                                  \nT-Series                     4.796159e+10\nLuisFonsiVEVO                2.170252e+10\nCalvinHarrisVEVO             1.828114e+10\nMacklemore                   1.700341e+10\nEd Sheeran                   1.691822e+10\n...                                   ...\nGiada Coronas                3.100000e+01\nChristian Rode - Topic       2.800000e+01\nwater Chillon                2.600000e+01\nBernhard Kellermann - Topic  8.000000e+00\nAdi Mira Michaels - Topic    2.000000e+00\n\n[6714 rows x 1 columns]",
      "text/html": "<div>\n<style scoped>\n    .dataframe tbody tr th:only-of-type {\n        vertical-align: middle;\n    }\n\n    .dataframe tbody tr th {\n        vertical-align: top;\n    }\n\n    .dataframe thead th {\n        text-align: right;\n    }\n</style>\n<table border=\"1\" class=\"dataframe\">\n  <thead>\n    <tr style=\"text-align: right;\">\n      <th></th>\n      <th>Views</th>\n    </tr>\n    <tr>\n      <th>Channel</th>\n      <th></th>\n    </tr>\n  </thead>\n  <tbody>\n    <tr>\n      <th>T-Series</th>\n      <td>4.796159e+10</td>\n    </tr>\n    <tr>\n      <th>LuisFonsiVEVO</th>\n      <td>2.170252e+10</td>\n    </tr>\n    <tr>\n      <th>CalvinHarrisVEVO</th>\n      <td>1.828114e+10</td>\n    </tr>\n    <tr>\n      <th>Macklemore</th>\n      <td>1.700341e+10</td>\n    </tr>\n    <tr>\n      <th>Ed Sheeran</th>\n      <td>1.691822e+10</td>\n    </tr>\n    <tr>\n      <th>...</th>\n      <td>...</td>\n    </tr>\n    <tr>\n      <th>Giada Coronas</th>\n      <td>3.100000e+01</td>\n    </tr>\n    <tr>\n      <th>Christian Rode - Topic</th>\n      <td>2.800000e+01</td>\n    </tr>\n    <tr>\n      <th>water Chillon</th>\n      <td>2.600000e+01</td>\n    </tr>\n    <tr>\n      <th>Bernhard Kellermann - Topic</th>\n      <td>8.000000e+00</td>\n    </tr>\n    <tr>\n      <th>Adi Mira Michaels - Topic</th>\n      <td>2.000000e+00</td>\n    </tr>\n  </tbody>\n</table>\n<p>6714 rows × 1 columns</p>\n</div>"
     },
     "execution_count": 79,
     "metadata": {},
     "output_type": "execute_result"
    }
   ],
   "source": [
    "pd.pivot_table(data = df, index = 'Channel', values = 'Views', aggfunc=np.sum).sort_values(by='Views', ascending=False)"
   ],
   "metadata": {
    "collapsed": false,
    "ExecuteTime": {
     "end_time": "2023-05-25T10:03:56.009954Z",
     "start_time": "2023-05-25T10:03:55.536653700Z"
    }
   }
  },
  {
   "cell_type": "markdown",
   "source": [
    "T-Series --- канал с наибольшим количеством просмотров"
   ],
   "metadata": {
    "collapsed": false
   }
  },
  {
   "cell_type": "markdown",
   "source": [
    "#### 11. У песни какого исполнителя больше всего комментариев на YouTube?"
   ],
   "metadata": {
    "collapsed": false
   }
  },
  {
   "cell_type": "code",
   "execution_count": 80,
   "outputs": [
    {
     "data": {
      "text/plain": "      Artist     Track    Comments\n14561    BTS  Dynamite  16083138.0",
      "text/html": "<div>\n<style scoped>\n    .dataframe tbody tr th:only-of-type {\n        vertical-align: middle;\n    }\n\n    .dataframe tbody tr th {\n        vertical-align: top;\n    }\n\n    .dataframe thead th {\n        text-align: right;\n    }\n</style>\n<table border=\"1\" class=\"dataframe\">\n  <thead>\n    <tr style=\"text-align: right;\">\n      <th></th>\n      <th>Artist</th>\n      <th>Track</th>\n      <th>Comments</th>\n    </tr>\n  </thead>\n  <tbody>\n    <tr>\n      <th>14561</th>\n      <td>BTS</td>\n      <td>Dynamite</td>\n      <td>16083138.0</td>\n    </tr>\n  </tbody>\n</table>\n</div>"
     },
     "execution_count": 80,
     "metadata": {},
     "output_type": "execute_result"
    }
   ],
   "source": [
    "df[df['Comments'] == df['Comments'].max()][['Artist', 'Track', 'Comments']]"
   ],
   "metadata": {
    "collapsed": false,
    "ExecuteTime": {
     "end_time": "2023-05-25T10:03:56.009954Z",
     "start_time": "2023-05-25T10:03:55.578228200Z"
    }
   }
  },
  {
   "cell_type": "markdown",
   "source": [
    "Наибольшим количеством комментариев обладает группа BTS"
   ],
   "metadata": {
    "collapsed": false
   }
  },
  {
   "cell_type": "markdown",
   "source": [
    "#### 12. Какой самый распространенный темп (tempo) песен?"
   ],
   "metadata": {
    "collapsed": false
   }
  },
  {
   "cell_type": "code",
   "execution_count": 81,
   "outputs": [
    {
     "data": {
      "text/plain": "Tempo\n77.986     24\n106.002    19\n0.000      17\n120.031    12\n119.982    11\n           ..\n100.217     1\n165.313     1\n82.525      1\n82.499      1\n155.378     1\nName: count, Length: 15024, dtype: int64"
     },
     "execution_count": 81,
     "metadata": {},
     "output_type": "execute_result"
    }
   ],
   "source": [
    "df['Tempo'].value_counts()"
   ],
   "metadata": {
    "collapsed": false,
    "ExecuteTime": {
     "end_time": "2023-05-25T10:03:56.009954Z",
     "start_time": "2023-05-25T10:03:55.609880200Z"
    }
   }
  },
  {
   "cell_type": "markdown",
   "source": [
    "Самый распространенный темп --- 77.986 (24 наблюдения)"
   ],
   "metadata": {
    "collapsed": false
   }
  },
  {
   "cell_type": "markdown",
   "source": [
    "#### 13. Какая песня имеет самый высокий показатель по speechiness?"
   ],
   "metadata": {
    "collapsed": false
   }
  },
  {
   "cell_type": "code",
   "execution_count": 82,
   "outputs": [
    {
     "data": {
      "text/plain": "                      Artist   \n5158  Sir Arthur Conan Doyle  \\\n\n                                                  Track  Speechiness  \n5158  Teil 7 - Sherlock Holmes und der blinde Bettle...        0.964  ",
      "text/html": "<div>\n<style scoped>\n    .dataframe tbody tr th:only-of-type {\n        vertical-align: middle;\n    }\n\n    .dataframe tbody tr th {\n        vertical-align: top;\n    }\n\n    .dataframe thead th {\n        text-align: right;\n    }\n</style>\n<table border=\"1\" class=\"dataframe\">\n  <thead>\n    <tr style=\"text-align: right;\">\n      <th></th>\n      <th>Artist</th>\n      <th>Track</th>\n      <th>Speechiness</th>\n    </tr>\n  </thead>\n  <tbody>\n    <tr>\n      <th>5158</th>\n      <td>Sir Arthur Conan Doyle</td>\n      <td>Teil 7 - Sherlock Holmes und der blinde Bettle...</td>\n      <td>0.964</td>\n    </tr>\n  </tbody>\n</table>\n</div>"
     },
     "execution_count": 82,
     "metadata": {},
     "output_type": "execute_result"
    }
   ],
   "source": [
    "df[df['Speechiness'] == df['Speechiness'].max()][['Artist', 'Track', 'Speechiness']]"
   ],
   "metadata": {
    "collapsed": false,
    "ExecuteTime": {
     "end_time": "2023-05-25T10:03:56.009954Z",
     "start_time": "2023-05-25T10:03:55.641571700Z"
    }
   }
  },
  {
   "cell_type": "markdown",
   "source": [
    "Самый высокий показатель speechiness имеет песня Teil 7 - Sherlock Holmes und der blinde Bettler - Die neuen Abenteuer, Folge 50 (по своей сути часть аудиокниги)"
   ],
   "metadata": {
    "collapsed": false
   }
  },
  {
   "cell_type": "markdown",
   "source": [
    "#### 14. Какая самая громкая песня в наборе данных?"
   ],
   "metadata": {
    "collapsed": false
   }
  },
  {
   "cell_type": "code",
   "execution_count": 83,
   "outputs": [
    {
     "data": {
      "text/plain": "         Artist  Track  Loudness\n9423  Sub Focus  Siren      0.92",
      "text/html": "<div>\n<style scoped>\n    .dataframe tbody tr th:only-of-type {\n        vertical-align: middle;\n    }\n\n    .dataframe tbody tr th {\n        vertical-align: top;\n    }\n\n    .dataframe thead th {\n        text-align: right;\n    }\n</style>\n<table border=\"1\" class=\"dataframe\">\n  <thead>\n    <tr style=\"text-align: right;\">\n      <th></th>\n      <th>Artist</th>\n      <th>Track</th>\n      <th>Loudness</th>\n    </tr>\n  </thead>\n  <tbody>\n    <tr>\n      <th>9423</th>\n      <td>Sub Focus</td>\n      <td>Siren</td>\n      <td>0.92</td>\n    </tr>\n  </tbody>\n</table>\n</div>"
     },
     "execution_count": 83,
     "metadata": {},
     "output_type": "execute_result"
    }
   ],
   "source": [
    "df[df['Loudness'] == df['Loudness'].max()][['Artist', 'Track', 'Loudness']]"
   ],
   "metadata": {
    "collapsed": false,
    "ExecuteTime": {
     "end_time": "2023-05-25T10:03:56.009954Z",
     "start_time": "2023-05-25T10:03:55.673287400Z"
    }
   }
  },
  {
   "cell_type": "markdown",
   "source": [
    "Самая громкая песня в наборе данных --- Siren by Sub Focus"
   ],
   "metadata": {
    "collapsed": false
   }
  },
  {
   "cell_type": "markdown",
   "source": [
    "#### 15. У какого артиста самый высокий средний балл danceability?"
   ],
   "metadata": {
    "collapsed": false
   }
  },
  {
   "cell_type": "code",
   "execution_count": 84,
   "outputs": [
    {
     "data": {
      "text/plain": "          Danceability\nArtist                \nSaweetie        0.8858",
      "text/html": "<div>\n<style scoped>\n    .dataframe tbody tr th:only-of-type {\n        vertical-align: middle;\n    }\n\n    .dataframe tbody tr th {\n        vertical-align: top;\n    }\n\n    .dataframe thead th {\n        text-align: right;\n    }\n</style>\n<table border=\"1\" class=\"dataframe\">\n  <thead>\n    <tr style=\"text-align: right;\">\n      <th></th>\n      <th>Danceability</th>\n    </tr>\n    <tr>\n      <th>Artist</th>\n      <th></th>\n    </tr>\n  </thead>\n  <tbody>\n    <tr>\n      <th>Saweetie</th>\n      <td>0.8858</td>\n    </tr>\n  </tbody>\n</table>\n</div>"
     },
     "execution_count": 84,
     "metadata": {},
     "output_type": "execute_result"
    }
   ],
   "source": [
    "pd.pivot_table(data = df, index= 'Artist', values= 'Danceability', aggfunc= np.mean).sort_values(by = 'Danceability', ascending=False).head(1)"
   ],
   "metadata": {
    "collapsed": false,
    "ExecuteTime": {
     "end_time": "2023-05-25T10:03:56.083576600Z",
     "start_time": "2023-05-25T10:03:55.704727100Z"
    }
   }
  },
  {
   "cell_type": "markdown",
   "source": [
    "Самый высокий балл danceability имеет артист Saweetie с показателем 0.8858"
   ],
   "metadata": {
    "collapsed": false
   }
  },
  {
   "cell_type": "markdown",
   "source": [
    "#### 16. Как средний показатель «speechiness» песен зависит от «Album_type»? Песни, выпущенные как синглы, чаще содержат больше слов согласно анализу?"
   ],
   "metadata": {
    "collapsed": false
   }
  },
  {
   "cell_type": "code",
   "execution_count": 85,
   "outputs": [
    {
     "data": {
      "text/plain": "             Speechiness\nAlbum_type              \nalbum           0.094900\ncompilation     0.078867\nsingle          0.103867",
      "text/html": "<div>\n<style scoped>\n    .dataframe tbody tr th:only-of-type {\n        vertical-align: middle;\n    }\n\n    .dataframe tbody tr th {\n        vertical-align: top;\n    }\n\n    .dataframe thead th {\n        text-align: right;\n    }\n</style>\n<table border=\"1\" class=\"dataframe\">\n  <thead>\n    <tr style=\"text-align: right;\">\n      <th></th>\n      <th>Speechiness</th>\n    </tr>\n    <tr>\n      <th>Album_type</th>\n      <th></th>\n    </tr>\n  </thead>\n  <tbody>\n    <tr>\n      <th>album</th>\n      <td>0.094900</td>\n    </tr>\n    <tr>\n      <th>compilation</th>\n      <td>0.078867</td>\n    </tr>\n    <tr>\n      <th>single</th>\n      <td>0.103867</td>\n    </tr>\n  </tbody>\n</table>\n</div>"
     },
     "execution_count": 85,
     "metadata": {},
     "output_type": "execute_result"
    }
   ],
   "source": [
    "pd.pivot_table(data = df, index = 'Album_type', values = 'Speechiness', aggfunc=np.mean)"
   ],
   "metadata": {
    "collapsed": false,
    "ExecuteTime": {
     "end_time": "2023-05-25T10:03:56.083576600Z",
     "start_time": "2023-05-25T10:03:55.736523200Z"
    }
   }
  },
  {
   "cell_type": "markdown",
   "source": [
    "Песни, выпущенные как синглы, содержат больше всего слов, далее выпущенные в рамках альбома, треки выпущенные как компиляция имеют меньше всего слов"
   ],
   "metadata": {
    "collapsed": false
   }
  },
  {
   "cell_type": "markdown",
   "source": [
    "#### 17. Каково среднее количество прослушиваний песен, которые входят в топ 10% лучших по метрике танцевальности?"
   ],
   "metadata": {
    "collapsed": false
   }
  },
  {
   "cell_type": "code",
   "execution_count": 86,
   "outputs": [
    {
     "data": {
      "text/plain": "151937856.8966193"
     },
     "execution_count": 86,
     "metadata": {},
     "output_type": "execute_result"
    }
   ],
   "source": [
    "df_dance = df.nlargest(int(len(df) * 0.1), columns = 'Danceability')\n",
    "df_dance['Stream'].mean()"
   ],
   "metadata": {
    "collapsed": false,
    "ExecuteTime": {
     "end_time": "2023-05-25T10:03:56.083576600Z",
     "start_time": "2023-05-25T10:03:55.768227800Z"
    }
   }
  },
  {
   "cell_type": "markdown",
   "source": [
    "Среднее количество прослушиваний для песен, которые входят в топ 10% лучших по метрике танцевальности, --- 151937856.8966193"
   ],
   "metadata": {
    "collapsed": false
   }
  },
  {
   "cell_type": "markdown",
   "source": [
    "#### 18. Для песен, которые входят в топ 10% лучших с точки зрения «danceability» метрики, как соотносится их средний показатель «tempo» со средним показателем «tempo» всех песен?"
   ],
   "metadata": {
    "collapsed": false
   }
  },
  {
   "cell_type": "code",
   "execution_count": 87,
   "outputs": [
    {
     "name": "stdout",
     "output_type": "stream",
     "text": [
      "Средний показатель tempo для 10% лучших с точки зрения 'danceability': 115.05771607918878\n",
      "Средний общий показатель tempo: 120.63833993048851\n"
     ]
    }
   ],
   "source": [
    "print(f\"Средний показатель tempo для 10% лучших с точки зрения 'danceability': {df_dance['Tempo'].mean()}\\n\"\n",
    "      f\"Средний общий показатель tempo: {df['Tempo'].mean()}\" )"
   ],
   "metadata": {
    "collapsed": false,
    "ExecuteTime": {
     "end_time": "2023-05-25T10:03:56.083576600Z",
     "start_time": "2023-05-25T10:03:55.799866400Z"
    }
   }
  },
  {
   "cell_type": "markdown",
   "source": [
    "Песни, входящие в топ 10% лучших с точки зрения танцевальности, обладают более низким темпом, чем средний темп для всех песен"
   ],
   "metadata": {
    "collapsed": false
   }
  },
  {
   "cell_type": "markdown",
   "source": [
    "#### 19. Какова корреляция между «valence» метрикой песни и ее популярностью на YouTube (по показателю «Views») и Spotify (по показателю «Stream»)? Счастливые песни более популярны? Valency отвечает за жизнерадостность песни."
   ],
   "metadata": {
    "collapsed": false
   }
  },
  {
   "cell_type": "code",
   "execution_count": 88,
   "outputs": [
    {
     "data": {
      "text/plain": "          Valence     Views    Stream\nValence  1.000000  0.035423 -0.012109\nViews    0.035423  1.000000  0.601905\nStream  -0.012109  0.601905  1.000000",
      "text/html": "<div>\n<style scoped>\n    .dataframe tbody tr th:only-of-type {\n        vertical-align: middle;\n    }\n\n    .dataframe tbody tr th {\n        vertical-align: top;\n    }\n\n    .dataframe thead th {\n        text-align: right;\n    }\n</style>\n<table border=\"1\" class=\"dataframe\">\n  <thead>\n    <tr style=\"text-align: right;\">\n      <th></th>\n      <th>Valence</th>\n      <th>Views</th>\n      <th>Stream</th>\n    </tr>\n  </thead>\n  <tbody>\n    <tr>\n      <th>Valence</th>\n      <td>1.000000</td>\n      <td>0.035423</td>\n      <td>-0.012109</td>\n    </tr>\n    <tr>\n      <th>Views</th>\n      <td>0.035423</td>\n      <td>1.000000</td>\n      <td>0.601905</td>\n    </tr>\n    <tr>\n      <th>Stream</th>\n      <td>-0.012109</td>\n      <td>0.601905</td>\n      <td>1.000000</td>\n    </tr>\n  </tbody>\n</table>\n</div>"
     },
     "execution_count": 88,
     "metadata": {},
     "output_type": "execute_result"
    }
   ],
   "source": [
    "df[['Valence', 'Views', 'Stream']].corr(numeric_only=True)"
   ],
   "metadata": {
    "collapsed": false,
    "ExecuteTime": {
     "end_time": "2023-05-25T10:03:56.083576600Z",
     "start_time": "2023-05-25T10:03:55.815705500Z"
    }
   }
  },
  {
   "cell_type": "markdown",
   "source": [
    "Показатель valence имеет очень низкую корреляцию с показателями Views и Stream, поэтому можно сделать вывод, что счастливые песни не являются более популярными"
   ],
   "metadata": {
    "collapsed": false
   }
  },
  {
   "cell_type": "markdown",
   "source": [
    "#### 20. Какова средняя громкость песен, которые входят в топ 10% лучших по энергетике (Energy)?"
   ],
   "metadata": {
    "collapsed": false
   }
  },
  {
   "cell_type": "code",
   "execution_count": 89,
   "outputs": [
    {
     "data": {
      "text/plain": "-4.630413809753742"
     },
     "execution_count": 89,
     "metadata": {},
     "output_type": "execute_result"
    }
   ],
   "source": [
    "df_energy = df.nlargest(int(len(df) * 0.1), columns = 'Energy')\n",
    "df_energy['Loudness'].mean()"
   ],
   "metadata": {
    "collapsed": false,
    "ExecuteTime": {
     "end_time": "2023-05-25T10:03:56.543041900Z",
     "start_time": "2023-05-25T10:03:55.847411Z"
    }
   }
  },
  {
   "cell_type": "markdown",
   "source": [
    "Средняя громкость песен, входящих в топ 10% по энергетике --- -4.630413809753742"
   ],
   "metadata": {
    "collapsed": false
   }
  },
  {
   "cell_type": "markdown",
   "source": [
    "#### 21. У какого исполнителя больше всего песен, которые входят в топ-10% как по просмотрам на YouTube, так и по стримам Spotify?"
   ],
   "metadata": {
    "collapsed": false
   }
  },
  {
   "cell_type": "code",
   "execution_count": 90,
   "outputs": [
    {
     "data": {
      "text/plain": "Artist\nCalvin Harris    9\nDua Lipa         9\nColdplay         9\nAriana Grande    9\nJ Balvin         8\n                ..\nKodak Black      1\nAURORA           1\nThe Killers      1\nVance Joy        1\nSoundgarden      1\nName: count, Length: 480, dtype: int64"
     },
     "execution_count": 90,
     "metadata": {},
     "output_type": "execute_result"
    }
   ],
   "source": [
    "df_views = df.nlargest(int(len(df) * 0.1), columns = 'Views')\n",
    "df_stream = df.nlargest(int(len(df) * 0.1), columns = 'Stream')\n",
    "df_inner = pd.merge(df_views, df_stream, on = 'Unnamed: 0', how = 'inner',  suffixes=('', '_DROP')).filter(regex='^(?!.*_DROP)')\n",
    "df_inner['Artist'].value_counts()\n"
   ],
   "metadata": {
    "collapsed": false,
    "ExecuteTime": {
     "end_time": "2023-05-25T10:03:56.543041900Z",
     "start_time": "2023-05-25T10:03:55.941732Z"
    }
   }
  },
  {
   "cell_type": "markdown",
   "source": [
    "Исполнителями, которые имеют наибольшее количество песен одновременно входящих в топ 10% по просмотрам на YouTube и по стримам на Spotify, являются: Calvin Harris, Dua Lipa, Coldplay и Ariana Grande --- по 9 песен"
   ],
   "metadata": {
    "collapsed": false
   }
  },
  {
   "cell_type": "markdown",
   "source": [
    "#### 22. Какова корреляция между «energy» песни и ее «loudness»?"
   ],
   "metadata": {
    "collapsed": false
   }
  },
  {
   "cell_type": "code",
   "execution_count": 91,
   "outputs": [
    {
     "data": {
      "text/plain": "0.7448"
     },
     "execution_count": 91,
     "metadata": {},
     "output_type": "execute_result"
    }
   ],
   "source": [
    "round(df['Energy'].corr(df['Loudness']), 4)"
   ],
   "metadata": {
    "collapsed": false,
    "ExecuteTime": {
     "end_time": "2023-05-25T10:03:56.543041900Z",
     "start_time": "2023-05-25T10:03:56.022810800Z"
    }
   }
  },
  {
   "cell_type": "markdown",
   "source": [
    "Корреляция между energy и loudness равна 0,7448 --- сильная корреляция"
   ],
   "metadata": {
    "collapsed": false
   }
  },
  {
   "cell_type": "markdown",
   "source": [
    "#### 23. Каково среднее количество лайков на YouTube для песен, которые находятся в верхнем квартиле (25%) и как это соотносится с общим средним показателем?"
   ],
   "metadata": {
    "collapsed": false
   }
  },
  {
   "cell_type": "code",
   "execution_count": 92,
   "outputs": [
    {
     "name": "stdout",
     "output_type": "stream",
     "text": [
      "Среднее количество лайков для песен в верхнем квартиле: 2260833.73991118\n",
      "Среднее количество лайков для всех песен: 663341.0613074292\n"
     ]
    }
   ],
   "source": [
    "df_likes = df.nlargest(int(len(df) * 0.25), columns = 'Likes')\n",
    "print(f\"Среднее количество лайков для песен в верхнем квартиле: {df_likes['Likes'].mean()}\\nСреднее количество лайков для всех песен: {df['Likes'].mean()}\")"
   ],
   "metadata": {
    "collapsed": false,
    "ExecuteTime": {
     "end_time": "2023-05-25T10:03:56.543041900Z",
     "start_time": "2023-05-25T10:03:56.037088700Z"
    }
   }
  },
  {
   "cell_type": "markdown",
   "source": [
    "Среднее количество лайков для песен в верхнем квартиле ~ больше на 1.5 млн, чем общий показатель"
   ],
   "metadata": {
    "collapsed": false
   }
  },
  {
   "cell_type": "markdown",
   "source": [
    "#### 24. Есть ли существенная разница в средней «valence» метрикой для песен, выпущенных как синглы, по сравнению с песнями, выпущенными в виде альбома?"
   ],
   "metadata": {
    "collapsed": false
   }
  },
  {
   "cell_type": "code",
   "execution_count": 93,
   "outputs": [
    {
     "data": {
      "text/plain": "              Valence\nAlbum_type           \nalbum        0.529771\ncompilation  0.529679\nsingle       0.530126",
      "text/html": "<div>\n<style scoped>\n    .dataframe tbody tr th:only-of-type {\n        vertical-align: middle;\n    }\n\n    .dataframe tbody tr th {\n        vertical-align: top;\n    }\n\n    .dataframe thead th {\n        text-align: right;\n    }\n</style>\n<table border=\"1\" class=\"dataframe\">\n  <thead>\n    <tr style=\"text-align: right;\">\n      <th></th>\n      <th>Valence</th>\n    </tr>\n    <tr>\n      <th>Album_type</th>\n      <th></th>\n    </tr>\n  </thead>\n  <tbody>\n    <tr>\n      <th>album</th>\n      <td>0.529771</td>\n    </tr>\n    <tr>\n      <th>compilation</th>\n      <td>0.529679</td>\n    </tr>\n    <tr>\n      <th>single</th>\n      <td>0.530126</td>\n    </tr>\n  </tbody>\n</table>\n</div>"
     },
     "execution_count": 93,
     "metadata": {},
     "output_type": "execute_result"
    }
   ],
   "source": [
    "pd.pivot_table(data=df, index= 'Album_type', values = 'Valence', aggfunc=np.mean )"
   ],
   "metadata": {
    "collapsed": false,
    "ExecuteTime": {
     "end_time": "2023-05-25T10:03:56.621187100Z",
     "start_time": "2023-05-25T10:03:56.083576600Z"
    }
   }
  },
  {
   "cell_type": "markdown",
   "source": [
    "Существенной разницы по средней valence в зависимости от типа альбома нет"
   ],
   "metadata": {
    "collapsed": false
   }
  },
  {
   "cell_type": "markdown",
   "source": [
    "#### 25. Каково среднее количество «комментариев» на YouTube для песен с показателем «speechiness» выше 0,66 (что указывает на большое количество произнесенных слов) и как это соотносится с общим средним показателем?"
   ],
   "metadata": {
    "collapsed": false
   }
  },
  {
   "cell_type": "code",
   "execution_count": 94,
   "outputs": [
    {
     "name": "stdout",
     "output_type": "stream",
     "text": [
      "Среднее количество комментариев для песен с показателем 'speechies'>0.66: 334.60550458715596\n",
      "Среднее количество комментариев в целом: 27518.993696957667\n"
     ]
    }
   ],
   "source": [
    "print(f\"Среднее количество комментариев для песен с показателем 'speechies'>0.66: {df[df['Speechiness']>0.66]['Comments'].mean()}\\nСреднее количество комментариев в целом: {df['Comments'].mean()}\")"
   ],
   "metadata": {
    "collapsed": false,
    "ExecuteTime": {
     "end_time": "2023-05-25T10:03:56.731069600Z",
     "start_time": "2023-05-25T10:03:56.120439300Z"
    }
   }
  },
  {
   "cell_type": "markdown",
   "source": [
    "Среднее количество комментариев для песен с показателем speechiness > 0.66 (преимущественно аудиокниги) гораздо ниже чем общий показатель"
   ],
   "metadata": {
    "collapsed": false
   }
  }
 ],
 "metadata": {
  "kernelspec": {
   "display_name": "Python 3",
   "language": "python",
   "name": "python3"
  },
  "language_info": {
   "codemirror_mode": {
    "name": "ipython",
    "version": 2
   },
   "file_extension": ".py",
   "mimetype": "text/x-python",
   "name": "python",
   "nbconvert_exporter": "python",
   "pygments_lexer": "ipython2",
   "version": "2.7.6"
  }
 },
 "nbformat": 4,
 "nbformat_minor": 0
}
